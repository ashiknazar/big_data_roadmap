{
 "cells": [
  {
   "cell_type": "markdown",
   "id": "e9fce7e9",
   "metadata": {},
   "source": [
    "- 38:06"
   ]
  },
  {
   "cell_type": "markdown",
   "id": "59b08db3",
   "metadata": {},
   "source": [
    "# Roadmap"
   ]
  },
  {
   "cell_type": "markdown",
   "id": "746d22ed",
   "metadata": {},
   "source": [
    "- linux\n",
    "- sql\n",
    "- java /python/scala\n",
    "- bigdata  ( hdfs,hive->(hadoop), batch,spark sql->(spark) )\n",
    "- ETL concepts\n",
    "- cloud\n",
    "- work on projects, do optimizations"
   ]
  },
  {
   "cell_type": "markdown",
   "id": "0c207e28",
   "metadata": {},
   "source": []
  }
 ],
 "metadata": {
  "language_info": {
   "name": "python"
  }
 },
 "nbformat": 4,
 "nbformat_minor": 5
}

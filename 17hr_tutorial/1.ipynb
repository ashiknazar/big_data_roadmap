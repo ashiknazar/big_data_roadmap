{
 "cells": [
  {
   "cell_type": "markdown",
   "id": "8a0d3c4a",
   "metadata": {},
   "source": [
    "\n",
    "### Evolution of Distributed Data Processing Systems\n",
    "\n",
    "- **GFS (Google File System)** – *2002*  \n",
    "  Developed by Google to efficiently store and manage large-scale distributed data. GFS introduced fault-tolerant, scalable file storage across commodity hardware.\n",
    "\n",
    "- **GMR (Google MapReduce)** – *2004*  \n",
    "  Google's programming model for processing and generating large data sets with a parallel, distributed algorithm on a cluster. Built to work on top of GFS.\n",
    "\n",
    "- **Hadoop (HDFS & MapReduce)** – *2005–2006*  \n",
    "  An open-source implementation inspired by Google's GFS and MapReduce papers.  \n",
    "  - **HDFS (Hadoop Distributed File System)**: Designed for reliable, scalable storage.\n",
    "  - **MapReduce**: Distributed computing model for processing large data sets in parallel.\n",
    "  - Originated from Yahoo, named after the creator Doug Cutting's son's toy elephant.\n"
   ]
  },
  {
   "cell_type": "markdown",
   "id": "3b7c940a",
   "metadata": {},
   "source": [
    "___"
   ]
  },
  {
   "cell_type": "raw",
   "id": "b767ec36",
   "metadata": {},
   "source": [
    "- hadoop\n",
    "- (will be test by research and development team  of ) ASF(APACHE SOFTWARE FOUNDATION) -will not provide any support for those use hadoop- can only impliment locally as poc -proof of concept - if problem with infrastructure you cannot approach apache\n",
    "- a company can stand in between \n",
    "  - who may add missing features\n",
    "    - after learining it full, team will give all support and add missing features (security,userinterface,,,)\n",
    "    - commercial hadoop\n",
    "    - (cloudera vm,hdp sandbox,emr-aws,microsoft-hdinsight,ibm-biginsight ,mapr-m3,m5,m7,databricks-db snadbox) "
   ]
  },
  {
   "cell_type": "markdown",
   "id": "7df74686",
   "metadata": {},
   "source": [
    "### Evolution from Open-Source Hadoop to Commercial Distributions\n",
    "\n",
    "1. **Hadoop (Open Source Initiation)**\n",
    "   - Hadoop was developed as an open-source framework for distributed storage and processing of big data.\n",
    "   - Released under the **Apache Software Foundation (ASF)** license.\n",
    "   - Made freely available for anyone to use, modify, and experiment with.\n",
    "\n",
    "2. **Role of Apache Software Foundation (ASF)**\n",
    "   - ASF acts as the governing body for Hadoop but does **not provide official support**.\n",
    "   - Hadoop is mostly tested and enhanced by the **research and development community**.\n",
    "   - ASF encourages local implementation for **learning or Proof of Concept (PoC)**.\n",
    "   - If users face infrastructure or scalability issues, they **cannot rely on ASF** for assistance.\n",
    "\n",
    "3. **The Need for Commercial Support**\n",
    "   - Enterprises needed:\n",
    "     - **Production-level stability**\n",
    "     - **Technical support**\n",
    "     - **Security**, **User Interfaces**, and **Integration tools**\n",
    "   - This created a gap between open-source Hadoop and enterprise demands.\n",
    "\n",
    "4. **Emergence of Commercial Hadoop Distributions**\n",
    "   - Companies stepped in to fill this gap, creating **enterprise-ready versions of Hadoop**.\n",
    "   - These organizations:\n",
    "     - Understood the open-source base thoroughly.\n",
    "     - **Added missing enterprise features** (security, UI, monitoring, etc.).\n",
    "     - Provided **24/7 support**, training, and deployment services.\n",
    "\n",
    "5. **Examples of Commercial Hadoop Platforms**\n",
    "   - **Cloudera** (also includes former Hortonworks HDP)\n",
    "   - **AWS EMR (Elastic MapReduce)**\n",
    "   - **Microsoft HDInsight**\n",
    "   - **IBM BigInsights**\n",
    "   - **MapR** (M3, M5, M7 editions)\n",
    "   - **Databricks** (DB Sandbox) – Spark-centric, but built on Hadoop ecosystem\n",
    "\n",
    "> 📌 In short:  \n",
    "> **Open-source Hadoop** started the movement, **ASF provided the platform**, but **commercial vendors made it enterprise-ready.**\n"
   ]
  },
  {
   "cell_type": "markdown",
   "id": "cffa560d",
   "metadata": {},
   "source": []
  }
 ],
 "metadata": {
  "language_info": {
   "name": "python"
  }
 },
 "nbformat": 4,
 "nbformat_minor": 5
}

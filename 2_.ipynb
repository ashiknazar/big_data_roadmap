{
 "cells": [
  {
   "cell_type": "markdown",
   "id": "34790d4f",
   "metadata": {},
   "source": [
    "# ✅ Step 1: Apache Spark (Standalone Mode)"
   ]
  },
  {
   "cell_type": "markdown",
   "id": "c4ee9b04",
   "metadata": {},
   "source": [
    "- Apache Spark is memory-intensive, but it runs well in local mode for development, especially with PySpark.\n",
    "\n"
   ]
  },
  {
   "cell_type": "markdown",
   "id": "cb3cba67",
   "metadata": {},
   "source": [
    "### 1.Update & install java"
   ]
  },
  {
   "cell_type": "markdown",
   "id": "b3e612f6",
   "metadata": {},
   "source": [
    "```cmd\n",
    "sudo apt update\n",
    "sudo apt install default-jdk -y\n",
    "java -version\n",
    "\n"
   ]
  },
  {
   "cell_type": "markdown",
   "id": "c9a45397",
   "metadata": {},
   "source": [
    "### 2.install spark"
   ]
  },
  {
   "cell_type": "markdown",
   "id": "ef194def",
   "metadata": {},
   "source": [
    "```cmd\n",
    "cd ~\n",
    "wget https://downloads.apache.org/spark/spark-3.5.1/spark-3.5.1-bin-hadoop3.tgz\n",
    "tar -xvzf spark-3.5.1-bin-hadoop3.tgz\n",
    "mv spark-3.5.1-bin-hadoop3 spark\n"
   ]
  },
  {
   "cell_type": "markdown",
   "id": "5d77f4d9",
   "metadata": {},
   "source": [
    "### 3.setup Environment Variable"
   ]
  },
  {
   "cell_type": "markdown",
   "id": "373411f2",
   "metadata": {},
   "source": [
    "```cmd\n",
    "echo 'export SPARK_HOME=~/spark' >> ~/.bashrc\n",
    "echo 'export PATH=$SPARK_HOME/bin:$PATH' >> ~/.bashrc\n",
    "source ~/.bashrc\n"
   ]
  },
  {
   "cell_type": "markdown",
   "id": "243aa051",
   "metadata": {},
   "source": [
    "### 4.Test sparkshell\n",
    "\n",
    "```cmd\n",
    "spark-shell"
   ]
  },
  {
   "cell_type": "markdown",
   "id": "e6740eca",
   "metadata": {},
   "source": [
    "### 5.Test Pyspark\n",
    "```cmd\n",
    "pyspark"
   ]
  },
  {
   "cell_type": "markdown",
   "id": "ed44ea92",
   "metadata": {},
   "source": []
  }
 ],
 "metadata": {
  "language_info": {
   "name": "python"
  }
 },
 "nbformat": 4,
 "nbformat_minor": 5
}

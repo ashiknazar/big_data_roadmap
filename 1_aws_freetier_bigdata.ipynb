{
 "cells": [
  {
   "cell_type": "markdown",
   "id": "b62aa26f",
   "metadata": {},
   "source": [
    "## Using AWS Free Tier for Big Data Practice\n",
    "\n",
    "The AWS Free Tier provides a great starting point for learning and experimenting with Big Data technologies. While it has limitations in compute and memory, many tools can still be explored in a single-node setup or using serverless services.\n",
    "\n",
    "### ✅ What You Can Do on AWS Free Tier\n",
    "\n",
    "- **Apache Spark (Single-node)**: Run in local mode on a `t2.micro` EC2 instance for small-scale PySpark development.\n",
    "- **Apache Hadoop (Pseudo-distributed)**: Practice HDFS, MapReduce on a single node.\n",
    "- **Apache Hive**: Integrate with Hadoop for SQL-based querying.\n",
    "- **Apache Airflow**: Run lightweight workflows for ETL orchestration.\n",
    "- **Amazon S3**: Store up to 5 GB of data for use with other services.\n",
    "- **Amazon Athena**: Run serverless SQL queries on S3 data.\n",
    "- **Amazon RDS (PostgreSQL/MySQL)**: Use a micro instance for metadata storage and small-scale databases.\n",
    "- **AWS Glue**: Run limited ETL jobs using the monthly free tier quota.\n",
    "- **AWS Lambda**: Perform lightweight event-driven data processing with 1M free requests/month.\n",
    "\n",
    "### ⚠️ Limitations to Keep in Mind\n",
    "\n",
    "- **Memory and CPU Constraints**: t2.micro/t3.micro (1 vCPU, ~1 GB RAM) can handle only lightweight workloads.\n",
    "- **No Multi-node Clusters**: Distributed computing with multiple EC2 nodes is not feasible under the Free Tier.\n",
    "- **Limited Storage**: 5 GB S3, minimal EBS and RDS storage—use efficiently.\n",
    "- **Not Suitable for Kafka or Flink**: These tools need more power and are not practical in Free Tier setups.\n",
    "\n",
    "### 🏁 Summary\n",
    "\n",
    "| Tool/Service        | Free Tier Friendly | Notes |\n",
    "|---------------------|--------------------|-------|\n",
    "| Apache Spark        | ✅ Yes (Local Mode) | Ideal for learning PySpark |\n",
    "| Apache Hadoop       | ✅ Limited          | Single-node only |\n",
    "| Apache Hive         | ✅ Yes              | Lightweight queries only |\n",
    "| Apache Airflow      | ✅ Yes              | Simple DAGs |\n",
    "| Apache Kafka        | ❌ Not Recommended  | Too resource-intensive |\n",
    "| Amazon S3           | ✅ Yes              | 5 GB Free |\n",
    "| Amazon Athena       | ✅ Yes              | Pay-per-query; use wisely |\n",
    "| Amazon RDS          | ✅ Yes              | One db.t2.micro instance |\n",
    "| AWS Glue            | ⚠️ Limited          | Very small free limits |\n",
    "| AWS Lambda          | ✅ Yes              | Good for event-driven tasks |\n",
    "\n",
    "Use the Free Tier to gain hands-on experience and build proof-of-concept pipelines. For more advanced or production-scale work, consider upgrading to larger EC2 instances or local alternatives like WSL2 or Docker.\n"
   ]
  },
  {
   "cell_type": "markdown",
   "id": "4f8d166a",
   "metadata": {},
   "source": [
    "___"
   ]
  },
  {
   "cell_type": "markdown",
   "id": "a2af884a",
   "metadata": {},
   "source": [
    "# 🔁 Roadmap: Step-by-Step Tech Stack Implementation"
   ]
  },
  {
   "cell_type": "markdown",
   "id": "0f31f436",
   "metadata": {},
   "source": [
    "- Apache Spark (Standalone Mode)\n",
    "\n",
    "- Amazon S3 + AWS CLI\n",
    "\n",
    "- Apache Hadoop (Pseudo-distributed)\n",
    "\n",
    "- Apache Hive (with Hadoop)\n",
    "\n",
    "- Amazon Athena (S3 + SQL)\n",
    "\n",
    "- Apache Airflow (ETL orchestration)\n",
    "\n",
    "- AWS Glue (ETL serverless, limited usage)\n",
    "\n",
    "- Amazon RDS (MySQL/PostgreSQL)\n",
    "\n",
    "- Apache Kafka (local-only, optional due to memory issues)"
   ]
  },
  {
   "cell_type": "markdown",
   "id": "ebaa32ef",
   "metadata": {},
   "source": []
  }
 ],
 "metadata": {
  "language_info": {
   "name": "python"
  }
 },
 "nbformat": 4,
 "nbformat_minor": 5
}
